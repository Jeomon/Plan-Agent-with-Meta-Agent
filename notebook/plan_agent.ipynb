{
 "cells": [
  {
   "cell_type": "code",
   "execution_count": 1,
   "metadata": {},
   "outputs": [],
   "source": [
    "from src.agent.react import ReactAgent\n",
    "from src.inference.groq import ChatGroq\n",
    "from os import environ\n",
    "from dotenv import load_dotenv\n",
    "from experimental import *\n",
    "\n",
    "load_dotenv()\n",
    "\n",
    "api_key=environ.get('GROQ_API_KEY')\n",
    "llm=ChatGroq('llama-3.1-70b-versatile',api_key,temperature=0)"
   ]
  },
  {
   "cell_type": "code",
   "execution_count": 2,
   "metadata": {},
   "outputs": [
    {
     "name": "stdout",
     "output_type": "stream",
     "text": [
      "Entering \u001b[107m\u001b[30mAI Assistant\u001b[0m\n",
      "\u001b[1m\u001b[32mThought: I need to remove the Save Tool from the tool box as it is no longer required.\u001b[0m\n",
      "Entering \u001b[107m\u001b[30mTool Agent\u001b[0m\n",
      "\u001b[1m\u001b[30mQuery: Remove the Save Tool from the tool box as it is no longer needed.\u001b[0m\n",
      "save_tool has been removed from experimental.py successfully.\n",
      "\u001b[1m\u001b[36m Now the tool is removed from the tool box.\u001b[0m\n"
     ]
    }
   ],
   "source": [
    "agent=ReactAgent(name='AI Assistant',description='Helpful AI assistant.',tools=[],llm=llm,verbose=True)\n",
    "agent_response=agent.invoke('remove save tool')"
   ]
  }
 ],
 "metadata": {
  "kernelspec": {
   "display_name": "Python 3",
   "language": "python",
   "name": "python3"
  },
  "language_info": {
   "codemirror_mode": {
    "name": "ipython",
    "version": 3
   },
   "file_extension": ".py",
   "mimetype": "text/x-python",
   "name": "python",
   "nbconvert_exporter": "python",
   "pygments_lexer": "ipython3",
   "version": "3.12.6"
  }
 },
 "nbformat": 4,
 "nbformat_minor": 2
}
